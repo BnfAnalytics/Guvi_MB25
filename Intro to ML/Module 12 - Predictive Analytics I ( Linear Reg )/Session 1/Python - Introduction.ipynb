{
 "cells": [
  {
   "cell_type": "markdown",
   "metadata": {},
   "source": [
    "# Welcome to Python Introduction! "
   ]
  },
  {
   "cell_type": "markdown",
   "metadata": {
    "_cell_guid": "b1076dfc-b9ad-4769-8c92-a6c4dae69d19",
    "_uuid": "8f2839f25d086af736a60e9eeb907d3b93b6e0e5"
   },
   "source": [
    "In this session, we will learn about the programming language Python. \n",
    "We will also get introduced to 2 python libraries- NumPy and Matplotlib. (These are the two fundamental tools/libraries for data science and machine learning in Python)."
   ]
  },
  {
   "cell_type": "markdown",
   "metadata": {},
   "source": [
    "Link to Kaggle - https://www.kaggle.com/vidyalakshmy/python-introduction"
   ]
  },
  {
   "cell_type": "code",
   "execution_count": 9,
   "metadata": {},
   "outputs": [
    {
     "name": "stdout",
     "output_type": "stream",
     "text": [
      "27\n"
     ]
    }
   ],
   "source": [
    "# ## data types \n",
    "\n",
    "x = 48  ## create a variable and assign a value \n",
    "print(x-21) ## print it\n",
    "\n",
    "# integer , float , string , boolean ----> data types all the coding language \n",
    "\n",
    "# integer --> -1,2,3,4,5\n",
    "# float --> -1.45, 5.678345\n",
    "# string --> text data --> 'shrey is a good boy' , 'chandan villa, goa, 560092 @123' , 'shrey' , \"shrey\"\n",
    "# boolean --> False True , 0,1"
   ]
  },
  {
   "cell_type": "code",
   "execution_count": 73,
   "metadata": {},
   "outputs": [
    {
     "data": {
      "text/plain": [
       "False"
      ]
     },
     "execution_count": 73,
     "metadata": {},
     "output_type": "execute_result"
    }
   ],
   "source": [
    "# + - * / %  comment \n",
    "# + additon\n",
    "# - subsraction\n",
    "# * multiply\n",
    "# / divide\n",
    "# % remainder --->\n",
    "#2 == 4\n",
    "\n",
    "# == ---> checking equality\n",
    "# = ---> assigning value to a variable \n",
    "\n",
    "#a = 2"
   ]
  },
  {
   "cell_type": "code",
   "execution_count": 10,
   "metadata": {
    "execution": {
     "iopub.execute_input": "2023-12-27T05:42:37.613776Z",
     "iopub.status.busy": "2023-12-27T05:42:37.613359Z",
     "iopub.status.idle": "2023-12-27T05:42:37.641523Z",
     "shell.execute_reply": "2023-12-27T05:42:37.640670Z",
     "shell.execute_reply.started": "2023-12-27T05:42:37.613740Z"
    }
   },
   "outputs": [
    {
     "data": {
      "text/plain": [
       "86400"
      ]
     },
     "execution_count": 10,
     "metadata": {},
     "output_type": "execute_result"
    }
   ],
   "source": [
    "seconds_in_a_day = 24 * 60 * 60\n",
    "seconds_in_a_day"
   ]
  },
  {
   "cell_type": "code",
   "execution_count": 11,
   "metadata": {
    "execution": {
     "iopub.execute_input": "2023-12-27T05:42:41.199179Z",
     "iopub.status.busy": "2023-12-27T05:42:41.198852Z",
     "iopub.status.idle": "2023-12-27T05:42:41.209665Z",
     "shell.execute_reply": "2023-12-27T05:42:41.208573Z",
     "shell.execute_reply.started": "2023-12-27T05:42:41.199151Z"
    }
   },
   "outputs": [
    {
     "data": {
      "text/plain": [
       "604800"
      ]
     },
     "execution_count": 11,
     "metadata": {},
     "output_type": "execute_result"
    }
   ],
   "source": [
    "seconds_in_a_week = 7 * seconds_in_a_day\n",
    "seconds_in_a_week"
   ]
  },
  {
   "cell_type": "code",
   "execution_count": 111,
   "metadata": {},
   "outputs": [],
   "source": [
    "# ## DATA STRUCTURES IN PYTHON ---> VERY VERY VERY IMP FROM INTERVIEW PERSPECTIVE\n",
    "\n",
    "# # LISTS , TUPLES, DICTIONARIES, SETS --> WHAT IS THE DIFEFRENCE \n",
    "\n",
    "# LIST [] : Can store any number of values of any data type. It is mutable. It is iterable. It is indexed.\n",
    "# TUPLE (): Can store any number of values of any data type. It is immutable. It is iterable. It is indexed.\n",
    "    \n",
    "\n",
    "# SET {} : Can store any number of non duplicate unordered values of any data type.  It is mutable. It is iterable. It is unindexed.\n",
    "# DICTIONARY {k:v} : Can store any number of values of any data type in key value pairs. It is mutable. It is iterable. It is indexed.\n",
    "# STRINGS : Iterable. Non Mutable. Ordered. Indexed."
   ]
  },
  {
   "cell_type": "markdown",
   "metadata": {},
   "source": [
    "### Lists"
   ]
  },
  {
   "cell_type": "markdown",
   "metadata": {},
   "source": [
    "Lists are used to store multiple items in a single variable.(It can be numbers, texts,floats etc.)\n",
    "\n",
    "Lists are one of 4 built-in data types in Python used to store collections of data, the other 3 are Tuple, Set, and Dictionary, all with different qualities and usage.\n",
    "\n",
    "Lists are created using square brackets"
   ]
  },
  {
   "cell_type": "code",
   "execution_count": 12,
   "metadata": {
    "execution": {
     "iopub.execute_input": "2023-12-27T05:45:44.106620Z",
     "iopub.status.busy": "2023-12-27T05:45:44.106200Z",
     "iopub.status.idle": "2023-12-27T05:45:44.110476Z",
     "shell.execute_reply": "2023-12-27T05:45:44.109689Z",
     "shell.execute_reply.started": "2023-12-27T05:45:44.106584Z"
    }
   },
   "outputs": [],
   "source": [
    "## Initiating an empty list\n",
    "my_list = []   ### list always has []"
   ]
  },
  {
   "cell_type": "code",
   "execution_count": 13,
   "metadata": {
    "execution": {
     "iopub.execute_input": "2023-12-27T05:46:20.867067Z",
     "iopub.status.busy": "2023-12-27T05:46:20.866785Z",
     "iopub.status.idle": "2023-12-27T05:46:20.873092Z",
     "shell.execute_reply": "2023-12-27T05:46:20.871824Z",
     "shell.execute_reply.started": "2023-12-27T05:46:20.867044Z"
    }
   },
   "outputs": [
    {
     "data": {
      "text/plain": [
       "['apple', 'banana', 'cherry', 1, 2, True, 5.678]"
      ]
     },
     "execution_count": 13,
     "metadata": {},
     "output_type": "execute_result"
    }
   ],
   "source": [
    "my_list_words = [\"apple\", \"banana\", \"cherry\",1,2,True,5.678]\n",
    "my_list_words"
   ]
  },
  {
   "cell_type": "code",
   "execution_count": 17,
   "metadata": {
    "execution": {
     "iopub.execute_input": "2023-12-27T05:46:34.305358Z",
     "iopub.status.busy": "2023-12-27T05:46:34.305041Z",
     "iopub.status.idle": "2023-12-27T05:46:34.309422Z",
     "shell.execute_reply": "2023-12-27T05:46:34.308451Z",
     "shell.execute_reply.started": "2023-12-27T05:46:34.305331Z"
    }
   },
   "outputs": [
    {
     "data": {
      "text/plain": [
       "[1, 2, 3, 'shrey', True, False, 1.9]"
      ]
     },
     "execution_count": 17,
     "metadata": {},
     "output_type": "execute_result"
    }
   ],
   "source": [
    "my_list = [1, 2, 3, \"shrey\", True, False, 1.90]\n",
    "my_list"
   ]
  },
  {
   "cell_type": "code",
   "execution_count": 21,
   "metadata": {
    "execution": {
     "iopub.execute_input": "2023-12-27T05:46:46.386039Z",
     "iopub.status.busy": "2023-12-27T05:46:46.385688Z",
     "iopub.status.idle": "2023-12-27T05:46:46.391746Z",
     "shell.execute_reply": "2023-12-27T05:46:46.390692Z",
     "shell.execute_reply.started": "2023-12-27T05:46:46.386009Z"
    }
   },
   "outputs": [
    {
     "data": {
      "text/plain": [
       "[1, 2, 3, 'shrey', True, False, 1.9, 'guvi', 'python', 'shiv', 'ram']"
      ]
     },
     "execution_count": 21,
     "metadata": {},
     "output_type": "execute_result"
    }
   ],
   "source": [
    "my_list.append(\"ram\")  ### add new elements to the list\n",
    "my_list"
   ]
  },
  {
   "cell_type": "code",
   "execution_count": 28,
   "metadata": {
    "execution": {
     "iopub.execute_input": "2023-12-27T05:46:58.648507Z",
     "iopub.status.busy": "2023-12-27T05:46:58.648196Z",
     "iopub.status.idle": "2023-12-27T05:46:58.654573Z",
     "shell.execute_reply": "2023-12-27T05:46:58.653416Z",
     "shell.execute_reply.started": "2023-12-27T05:46:58.648481Z"
    }
   },
   "outputs": [
    {
     "data": {
      "text/plain": [
       "'guvi'"
      ]
     },
     "execution_count": 28,
     "metadata": {},
     "output_type": "execute_result"
    }
   ],
   "source": [
    "## Accessing Individuel elements from a list (Indexing in Python starts with 0)\n",
    "\n",
    "my_list[7]  ## this will give me the 8th element of the list"
   ]
  },
  {
   "cell_type": "markdown",
   "metadata": {},
   "source": [
    "We can access \"slices\" of a list using my_list[i:j] where i is the start of the slice (again, indexing starts from 0) and j the end of the slice."
   ]
  },
  {
   "cell_type": "code",
   "execution_count": 40,
   "metadata": {
    "execution": {
     "iopub.execute_input": "2023-12-27T05:47:56.446981Z",
     "iopub.status.busy": "2023-12-27T05:47:56.446616Z",
     "iopub.status.idle": "2023-12-27T05:47:56.452587Z",
     "shell.execute_reply": "2023-12-27T05:47:56.451761Z",
     "shell.execute_reply.started": "2023-12-27T05:47:56.446951Z"
    }
   },
   "outputs": [
    {
     "data": {
      "text/plain": [
       "[1, 2, 3, 'shrey', True, False, 1.9, 'guvi']"
      ]
     },
     "execution_count": 40,
     "metadata": {},
     "output_type": "execute_result"
    }
   ],
   "source": [
    "my_list[0:8]  ## slicing is done to get many elements of the list together \n",
    "\n",
    "## starting index included, ending index not included -------> "
   ]
  },
  {
   "cell_type": "code",
   "execution_count": 34,
   "metadata": {
    "execution": {
     "iopub.execute_input": "2023-12-27T05:49:25.651433Z",
     "iopub.status.busy": "2023-12-27T05:49:25.651103Z",
     "iopub.status.idle": "2023-12-27T05:49:25.657902Z",
     "shell.execute_reply": "2023-12-27T05:49:25.656959Z",
     "shell.execute_reply.started": "2023-12-27T05:49:25.651406Z"
    }
   },
   "outputs": [
    {
     "data": {
      "text/plain": [
       "[1, 2, 3, 'shrey', True, False, 1.9]"
      ]
     },
     "execution_count": 34,
     "metadata": {},
     "output_type": "execute_result"
    }
   ],
   "source": [
    "my_list[0:7]"
   ]
  },
  {
   "cell_type": "code",
   "execution_count": 37,
   "metadata": {
    "execution": {
     "iopub.execute_input": "2023-12-27T05:50:30.459938Z",
     "iopub.status.busy": "2023-12-27T05:50:30.459552Z",
     "iopub.status.idle": "2023-12-27T05:50:30.465658Z",
     "shell.execute_reply": "2023-12-27T05:50:30.464681Z",
     "shell.execute_reply.started": "2023-12-27T05:50:30.459911Z"
    }
   },
   "outputs": [
    {
     "data": {
      "text/plain": [
       "False"
      ]
     },
     "execution_count": 37,
     "metadata": {},
     "output_type": "execute_result"
    }
   ],
   "source": [
    "## We can check if an element is in the list using in\n",
    "\"ronaldo\" in my_list"
   ]
  },
  {
   "cell_type": "code",
   "execution_count": 38,
   "metadata": {
    "execution": {
     "iopub.execute_input": "2023-12-27T05:50:50.186499Z",
     "iopub.status.busy": "2023-12-27T05:50:50.186161Z",
     "iopub.status.idle": "2023-12-27T05:50:50.192314Z",
     "shell.execute_reply": "2023-12-27T05:50:50.191445Z",
     "shell.execute_reply.started": "2023-12-27T05:50:50.186462Z"
    }
   },
   "outputs": [
    {
     "data": {
      "text/plain": [
       "11"
      ]
     },
     "execution_count": 38,
     "metadata": {},
     "output_type": "execute_result"
    }
   ],
   "source": [
    "## The length of a list can be obtained using the len function\n",
    "len(my_list)"
   ]
  },
  {
   "cell_type": "markdown",
   "metadata": {},
   "source": [
    "### Strings"
   ]
  },
  {
   "cell_type": "markdown",
   "metadata": {},
   "source": [
    "Strings are used to store text. They can delimited using either single quotes or double quotes"
   ]
  },
  {
   "cell_type": "code",
   "execution_count": 123,
   "metadata": {},
   "outputs": [
    {
     "data": {
      "text/plain": [
       "'oso'"
      ]
     },
     "execution_count": 123,
     "metadata": {},
     "output_type": "execute_result"
    }
   ],
   "source": [
    "name = \"bill gates\"\n",
    "company = \"microsoft\"\n",
    "#name + \" owns \" + company\n",
    "\n",
    "## concatenation --> additon of 2 strings together\n",
    "\n",
    "company[4:7]"
   ]
  },
  {
   "cell_type": "code",
   "execution_count": 12,
   "metadata": {
    "execution": {
     "iopub.execute_input": "2023-12-27T05:51:52.509710Z",
     "iopub.status.busy": "2023-12-27T05:51:52.509390Z",
     "iopub.status.idle": "2023-12-27T05:51:52.513486Z",
     "shell.execute_reply": "2023-12-27T05:51:52.512578Z",
     "shell.execute_reply.started": "2023-12-27T05:51:52.509684Z"
    }
   },
   "outputs": [],
   "source": [
    "string1 = \"some text\"\n",
    "string2 = 'some other text' "
   ]
  },
  {
   "cell_type": "markdown",
   "metadata": {},
   "source": [
    "Strings behave similarly to lists. As such we can access individual elements in exactly the same way"
   ]
  },
  {
   "cell_type": "code",
   "execution_count": 13,
   "metadata": {
    "execution": {
     "iopub.execute_input": "2023-12-27T05:52:27.976535Z",
     "iopub.status.busy": "2023-12-27T05:52:27.976223Z",
     "iopub.status.idle": "2023-12-27T05:52:27.981777Z",
     "shell.execute_reply": "2023-12-27T05:52:27.981165Z",
     "shell.execute_reply.started": "2023-12-27T05:52:27.976511Z"
    }
   },
   "outputs": [
    {
     "data": {
      "text/plain": [
       "'e'"
      ]
     },
     "execution_count": 13,
     "metadata": {},
     "output_type": "execute_result"
    }
   ],
   "source": [
    "string1[3]"
   ]
  },
  {
   "cell_type": "code",
   "execution_count": 14,
   "metadata": {
    "execution": {
     "iopub.execute_input": "2023-12-27T05:52:40.682342Z",
     "iopub.status.busy": "2023-12-27T05:52:40.682049Z",
     "iopub.status.idle": "2023-12-27T05:52:40.687037Z",
     "shell.execute_reply": "2023-12-27T05:52:40.686483Z",
     "shell.execute_reply.started": "2023-12-27T05:52:40.682319Z"
    }
   },
   "outputs": [
    {
     "data": {
      "text/plain": [
       "'text'"
      ]
     },
     "execution_count": 14,
     "metadata": {},
     "output_type": "execute_result"
    }
   ],
   "source": [
    "string1[5:]"
   ]
  },
  {
   "cell_type": "code",
   "execution_count": 15,
   "metadata": {
    "execution": {
     "iopub.execute_input": "2023-12-27T05:52:52.976442Z",
     "iopub.status.busy": "2023-12-27T05:52:52.976141Z",
     "iopub.status.idle": "2023-12-27T05:52:52.981784Z",
     "shell.execute_reply": "2023-12-27T05:52:52.981207Z",
     "shell.execute_reply.started": "2023-12-27T05:52:52.976418Z"
    }
   },
   "outputs": [
    {
     "data": {
      "text/plain": [
       "'some text some other text'"
      ]
     },
     "execution_count": 15,
     "metadata": {},
     "output_type": "execute_result"
    }
   ],
   "source": [
    "string1 + \" \" + string2"
   ]
  },
  {
   "cell_type": "markdown",
   "metadata": {},
   "source": [
    "### Conditional Statements"
   ]
  },
  {
   "cell_type": "markdown",
   "metadata": {},
   "source": [
    "As their name indicates, conditionals are a way to execute code depending on whether a condition is True or False. As in other languages, Python supports if and else but else if is contracted into elif, as the example below demonstrates."
   ]
  },
  {
   "cell_type": "code",
   "execution_count": 126,
   "metadata": {},
   "outputs": [
    {
     "name": "stdout",
     "output_type": "stream",
     "text": [
      "normal weight\n"
     ]
    }
   ],
   "source": [
    "weight = 50\n",
    "\n",
    "if weight > 0 and weight < 60:\n",
    "  print(\"normal weight\")\n",
    "elif weight > 0 and weight <100 :\n",
    "  print(\"over weight\")\n",
    "else: \n",
    "  print(\"obese\")\n",
    "\n"
   ]
  },
  {
   "cell_type": "code",
   "execution_count": 124,
   "metadata": {
    "execution": {
     "iopub.execute_input": "2023-12-27T05:54:05.507991Z",
     "iopub.status.busy": "2023-12-27T05:54:05.507675Z",
     "iopub.status.idle": "2023-12-27T05:54:05.512502Z",
     "shell.execute_reply": "2023-12-27T05:54:05.511961Z",
     "shell.execute_reply.started": "2023-12-27T05:54:05.507967Z"
    }
   },
   "outputs": [
    {
     "name": "stdout",
     "output_type": "stream",
     "text": [
      "positive\n"
     ]
    }
   ],
   "source": [
    "my_variable = 22\n",
    "\n",
    "if my_variable < 0:\n",
    "  print(\"negative\")\n",
    "elif my_variable == 0:\n",
    "  print(\"zero\")\n",
    "else: \n",
    "  print(\"positive\")\n",
    "\n",
    "## elif -- short form for else if\n",
    "## if none of the above conditions are satisfied : else statement is executed"
   ]
  },
  {
   "cell_type": "markdown",
   "metadata": {},
   "source": [
    "### Loops"
   ]
  },
  {
   "cell_type": "markdown",
   "metadata": {},
   "source": [
    "Loops are a way to execute a block of code multiple times. There are two main types of loops: while loops and for loops."
   ]
  },
  {
   "cell_type": "markdown",
   "metadata": {},
   "source": [
    "* While Loop"
   ]
  },
  {
   "cell_type": "code",
   "execution_count": 131,
   "metadata": {
    "execution": {
     "iopub.execute_input": "2023-12-27T05:55:45.246349Z",
     "iopub.status.busy": "2023-12-27T05:55:45.246070Z",
     "iopub.status.idle": "2023-12-27T05:55:45.252509Z",
     "shell.execute_reply": "2023-12-27T05:55:45.251600Z",
     "shell.execute_reply.started": "2023-12-27T05:55:45.246326Z"
    }
   },
   "outputs": [
    {
     "data": {
      "text/plain": [
       "[1,\n",
       " 2,\n",
       " 3,\n",
       " 'shrey',\n",
       " 'shivang',\n",
       " 'true',\n",
       " '3.67',\n",
       " 'rock',\n",
       " 'guvi',\n",
       " 'python',\n",
       " 'python',\n",
       " 'guvi']"
      ]
     },
     "execution_count": 131,
     "metadata": {},
     "output_type": "execute_result"
    }
   ],
   "source": [
    "my_list\n",
    "#len(my_list) ### number of elements in my list\n",
    "#my_list"
   ]
  },
  {
   "cell_type": "code",
   "execution_count": 129,
   "metadata": {
    "execution": {
     "iopub.execute_input": "2023-12-27T05:55:50.811336Z",
     "iopub.status.busy": "2023-12-27T05:55:50.811048Z",
     "iopub.status.idle": "2023-12-27T05:55:50.815580Z",
     "shell.execute_reply": "2023-12-27T05:55:50.814787Z",
     "shell.execute_reply.started": "2023-12-27T05:55:50.811312Z"
    }
   },
   "outputs": [
    {
     "name": "stdout",
     "output_type": "stream",
     "text": [
      "1\n",
      "2\n",
      "3\n",
      "shrey\n",
      "shivang\n",
      "true\n",
      "3.67\n",
      "rock\n",
      "guvi\n",
      "python\n",
      "python\n",
      "guvi\n"
     ]
    }
   ],
   "source": [
    "i = 0\n",
    "\n",
    "## i = 0, len = 12, yes, print first element\n",
    "## i = 0+1, len = 12, yes, print second element\n",
    "## i = 1+1, len = 12, yes, print third element\n",
    "-\n",
    "-\n",
    "-\n",
    "## i = 11+1, len, 12, 12<12, no, get out of the loop\n",
    "\n",
    "\n",
    "while i < len(my_list): ## as far as this condition is true, the code will execute\n",
    "  print(my_list[i])\n",
    "  i = i+1 "
   ]
  },
  {
   "cell_type": "markdown",
   "metadata": {},
   "source": [
    "* For Loop"
   ]
  },
  {
   "cell_type": "code",
   "execution_count": 134,
   "metadata": {},
   "outputs": [
    {
     "data": {
      "text/plain": [
       "12"
      ]
     },
     "execution_count": 134,
     "metadata": {},
     "output_type": "execute_result"
    }
   ],
   "source": [
    "len(my_list)"
   ]
  },
  {
   "cell_type": "code",
   "execution_count": 136,
   "metadata": {
    "execution": {
     "iopub.execute_input": "2023-12-27T05:57:27.939655Z",
     "iopub.status.busy": "2023-12-27T05:57:27.939318Z",
     "iopub.status.idle": "2023-12-27T05:57:27.945049Z",
     "shell.execute_reply": "2023-12-27T05:57:27.944164Z",
     "shell.execute_reply.started": "2023-12-27T05:57:27.939605Z"
    }
   },
   "outputs": [
    {
     "data": {
      "text/plain": [
       "range(0, 12)"
      ]
     },
     "execution_count": 136,
     "metadata": {},
     "output_type": "execute_result"
    }
   ],
   "source": [
    "range(12) ## gives values from 0 till whatever you mention inside"
   ]
  },
  {
   "cell_type": "code",
   "execution_count": 137,
   "metadata": {
    "execution": {
     "iopub.execute_input": "2023-12-27T05:57:39.715743Z",
     "iopub.status.busy": "2023-12-27T05:57:39.715422Z",
     "iopub.status.idle": "2023-12-27T05:57:39.720494Z",
     "shell.execute_reply": "2023-12-27T05:57:39.719534Z",
     "shell.execute_reply.started": "2023-12-27T05:57:39.715718Z"
    }
   },
   "outputs": [
    {
     "name": "stdout",
     "output_type": "stream",
     "text": [
      "1\n",
      "2\n",
      "3\n",
      "shrey\n",
      "shivang\n",
      "true\n",
      "3.67\n",
      "rock\n",
      "guvi\n",
      "python\n",
      "python\n",
      "guvi\n"
     ]
    }
   ],
   "source": [
    "for i in range(len(my_list)):\n",
    "  print(my_list[i])\n",
    "\n",
    "### i will be from 0 to 12 \n",
    "\n",
    "difference betwen while & for loop : while loop uses a condition, loop will run till the condition is satisfied\n",
    "for loop will run will the mentioned range"
   ]
  },
  {
   "cell_type": "code",
   "execution_count": 21,
   "metadata": {
    "execution": {
     "iopub.execute_input": "2023-12-27T05:57:54.402603Z",
     "iopub.status.busy": "2023-12-27T05:57:54.402280Z",
     "iopub.status.idle": "2023-12-27T05:57:54.407702Z",
     "shell.execute_reply": "2023-12-27T05:57:54.406773Z",
     "shell.execute_reply.started": "2023-12-27T05:57:54.402580Z"
    }
   },
   "outputs": [
    {
     "name": "stdout",
     "output_type": "stream",
     "text": [
      "1\n",
      "2\n",
      "3\n",
      "4\n"
     ]
    }
   ],
   "source": [
    "for element in my_list:\n",
    "  print(element)"
   ]
  },
  {
   "cell_type": "markdown",
   "metadata": {},
   "source": [
    "### Function"
   ]
  },
  {
   "cell_type": "markdown",
   "metadata": {},
   "source": [
    "A function takes some inputs and process them to return some outputs.\n",
    "Functions are created to improve code readability, it separates the code into different blocks, responsible for performing precise actions. "
   ]
  },
  {
   "cell_type": "code",
   "execution_count": null,
   "metadata": {},
   "outputs": [],
   "source": [
    "FUNCTION --> TAKE SOME INPUT , GIVE OUT SOME OUTPUT\n",
    "\n",
    "\n",
    "## LEN(LIST_NAME) --> LENGTH OR NO OF ELEMENTS IN THE LIST\n",
    "RANGE(12) --> 0-12\n",
    "\n",
    "MAKE YOUR OWN FUNCTION BASED ON YOUR CONDITION --?"
   ]
  },
  {
   "cell_type": "code",
   "execution_count": 138,
   "metadata": {
    "execution": {
     "iopub.execute_input": "2023-12-27T06:00:34.448741Z",
     "iopub.status.busy": "2023-12-27T06:00:34.448413Z",
     "iopub.status.idle": "2023-12-27T06:00:34.453118Z",
     "shell.execute_reply": "2023-12-27T06:00:34.452025Z",
     "shell.execute_reply.started": "2023-12-27T06:00:34.448712Z"
    }
   },
   "outputs": [],
   "source": [
    "def square(x):\n",
    "    return x**2"
   ]
  },
  {
   "cell_type": "code",
   "execution_count": 141,
   "metadata": {
    "execution": {
     "iopub.execute_input": "2023-12-27T06:00:38.518481Z",
     "iopub.status.busy": "2023-12-27T06:00:38.518184Z",
     "iopub.status.idle": "2023-12-27T06:00:38.524724Z",
     "shell.execute_reply": "2023-12-27T06:00:38.523867Z",
     "shell.execute_reply.started": "2023-12-27T06:00:38.518457Z"
    }
   },
   "outputs": [
    {
     "data": {
      "text/plain": [
       "144"
      ]
     },
     "execution_count": 141,
     "metadata": {},
     "output_type": "execute_result"
    }
   ],
   "source": [
    "square(12)"
   ]
  },
  {
   "cell_type": "code",
   "execution_count": 24,
   "metadata": {
    "execution": {
     "iopub.execute_input": "2023-12-27T06:01:01.938487Z",
     "iopub.status.busy": "2023-12-27T06:01:01.938161Z",
     "iopub.status.idle": "2023-12-27T06:01:01.942495Z",
     "shell.execute_reply": "2023-12-27T06:01:01.941592Z",
     "shell.execute_reply.started": "2023-12-27T06:01:01.938460Z"
    }
   },
   "outputs": [],
   "source": [
    "def multiply(a,b):\n",
    "    return a*b"
   ]
  },
  {
   "cell_type": "code",
   "execution_count": 143,
   "metadata": {
    "execution": {
     "iopub.execute_input": "2023-12-27T06:01:11.665715Z",
     "iopub.status.busy": "2023-12-27T06:01:11.665373Z",
     "iopub.status.idle": "2023-12-27T06:01:11.671479Z",
     "shell.execute_reply": "2023-12-27T06:01:11.670650Z",
     "shell.execute_reply.started": "2023-12-27T06:01:11.665689Z"
    }
   },
   "outputs": [
    {
     "data": {
      "text/plain": [
       "30"
      ]
     },
     "execution_count": 143,
     "metadata": {},
     "output_type": "execute_result"
    }
   ],
   "source": [
    "multiply(6,5)"
   ]
  },
  {
   "cell_type": "code",
   "execution_count": 26,
   "metadata": {
    "execution": {
     "iopub.execute_input": "2023-12-27T06:01:26.092031Z",
     "iopub.status.busy": "2023-12-27T06:01:26.091584Z",
     "iopub.status.idle": "2023-12-27T06:01:26.098700Z",
     "shell.execute_reply": "2023-12-27T06:01:26.097795Z",
     "shell.execute_reply.started": "2023-12-27T06:01:26.091995Z"
    }
   },
   "outputs": [
    {
     "data": {
      "text/plain": [
       "3136"
      ]
     },
     "execution_count": 26,
     "metadata": {},
     "output_type": "execute_result"
    }
   ],
   "source": [
    "square(multiply(7,8))"
   ]
  },
  {
   "cell_type": "code",
   "execution_count": 145,
   "metadata": {},
   "outputs": [
    {
     "data": {
      "text/plain": [
       "0.8333333333333334"
      ]
     },
     "execution_count": 145,
     "metadata": {},
     "output_type": "execute_result"
    }
   ],
   "source": [
    "def maths(operation,x,y):\n",
    "    if operation == \"add\":\n",
    "        return x+y\n",
    "    if operation == \"subs\":\n",
    "        return x-y\n",
    "    if operation == \"mul\":\n",
    "        return x*y\n",
    "    if operation == \"div\":\n",
    "        return x/y\n",
    "\n",
    "maths(\"div\",5,6)"
   ]
  },
  {
   "cell_type": "code",
   "execution_count": null,
   "metadata": {},
   "outputs": [],
   "source": [
    "## If conditions  and for loops\n",
    "\n",
    "lst=[1,2,3,4,5,6,7,8,9,10,12,13,14,15]\n",
    "\n",
    "even_sum=0\n",
    "odd_sum=0\n",
    "for i in lst:\n",
    "    if i%2==0:\n",
    "        even_sum=even_sum+i\n",
    "    else:\n",
    "        odd_sum=odd_sum+i\n",
    "print(even_sum,odd_sum)\n",
    "        "
   ]
  },
  {
   "cell_type": "markdown",
   "metadata": {},
   "source": [
    "### Exercises"
   ]
  },
  {
   "cell_type": "markdown",
   "metadata": {},
   "source": [
    "**Exercise 1.** Using a conditional, write the [relu](https://en.wikipedia.org/wiki/Rectifier_(neural_networks)) function defined as follows\n",
    "\n",
    "$\\text{relu}(x) = \\left\\{\n",
    "   \\begin{array}{rl}\n",
    "     x, & \\text{if }  x \\ge 0 \\\\\n",
    "     0, & \\text{otherwise }.\n",
    "   \\end{array}\\right.$"
   ]
  },
  {
   "cell_type": "code",
   "execution_count": 53,
   "metadata": {
    "execution": {
     "iopub.execute_input": "2023-12-27T06:02:57.004572Z",
     "iopub.status.busy": "2023-12-27T06:02:57.004285Z",
     "iopub.status.idle": "2023-12-27T06:02:57.009069Z",
     "shell.execute_reply": "2023-12-27T06:02:57.008154Z",
     "shell.execute_reply.started": "2023-12-27T06:02:57.004548Z"
    }
   },
   "outputs": [],
   "source": [
    "def relu(x):\n",
    "  # Write your function here\n",
    "  return\n",
    "\n",
    "relu(-3)"
   ]
  },
  {
   "cell_type": "markdown",
   "metadata": {},
   "source": [
    "## Numpy Library"
   ]
  },
  {
   "cell_type": "markdown",
   "metadata": {},
   "source": [
    "NumPy is short for \"Numerical Python\".\n",
    "NumPy is a popular library for storing arrays of numbers and performing computations on them."
   ]
  },
  {
   "cell_type": "markdown",
   "metadata": {},
   "source": [
    "## References:\n",
    "* NumPy [reference](https://numpy.org/doc/stable/reference/)\n",
    "* SciPy [lectures](https://scipy-lectures.org/)"
   ]
  },
  {
   "cell_type": "markdown",
   "metadata": {},
   "source": [
    "To Use Numpy we start with importing the library"
   ]
  },
  {
   "cell_type": "code",
   "execution_count": 30,
   "metadata": {
    "execution": {
     "iopub.execute_input": "2023-12-27T06:10:01.550323Z",
     "iopub.status.busy": "2023-12-27T06:10:01.550044Z",
     "iopub.status.idle": "2023-12-27T06:10:01.553677Z",
     "shell.execute_reply": "2023-12-27T06:10:01.553039Z",
     "shell.execute_reply.started": "2023-12-27T06:10:01.550300Z"
    }
   },
   "outputs": [],
   "source": [
    "import numpy as np\n",
    "\n",
    "## array is also a data structure, it can only store data"
   ]
  },
  {
   "cell_type": "code",
   "execution_count": 173,
   "metadata": {
    "execution": {
     "iopub.execute_input": "2023-12-27T06:10:27.470356Z",
     "iopub.status.busy": "2023-12-27T06:10:27.470048Z",
     "iopub.status.idle": "2023-12-27T06:10:27.476456Z",
     "shell.execute_reply": "2023-12-27T06:10:27.475916Z",
     "shell.execute_reply.started": "2023-12-27T06:10:27.470331Z"
    }
   },
   "outputs": [
    {
     "data": {
      "text/plain": [
       "array(['1', '2', '3', 'shrey'], dtype='<U11')"
      ]
     },
     "execution_count": 173,
     "metadata": {},
     "output_type": "execute_result"
    }
   ],
   "source": [
    "## Array Creation\n",
    "\n",
    "my_array = np.array([1, 2, 3,\"shrey\"])\n",
    "my_array"
   ]
  },
  {
   "cell_type": "code",
   "execution_count": 148,
   "metadata": {},
   "outputs": [
    {
     "data": {
      "text/plain": [
       "4"
      ]
     },
     "execution_count": 148,
     "metadata": {},
     "output_type": "execute_result"
    }
   ],
   "source": [
    "my_array[3]"
   ]
  },
  {
   "cell_type": "code",
   "execution_count": 32,
   "metadata": {
    "execution": {
     "iopub.execute_input": "2023-12-27T06:11:03.813520Z",
     "iopub.status.busy": "2023-12-27T06:11:03.813239Z",
     "iopub.status.idle": "2023-12-27T06:11:03.818417Z",
     "shell.execute_reply": "2023-12-27T06:11:03.817897Z",
     "shell.execute_reply.started": "2023-12-27T06:11:03.813496Z"
    }
   },
   "outputs": [
    {
     "data": {
      "text/plain": [
       "array([[1, 2, 3],\n",
       "       [4, 5, 6]])"
      ]
     },
     "execution_count": 32,
     "metadata": {},
     "output_type": "execute_result"
    }
   ],
   "source": [
    "## 2D array creation\n",
    "\n",
    "my_2d_array = np.array([[1, 2, 3], [4, 5, 6]])\n",
    "my_2d_array"
   ]
  },
  {
   "cell_type": "code",
   "execution_count": 150,
   "metadata": {
    "execution": {
     "iopub.execute_input": "2023-12-27T06:11:38.533854Z",
     "iopub.status.busy": "2023-12-27T06:11:38.533540Z",
     "iopub.status.idle": "2023-12-27T06:11:38.539342Z",
     "shell.execute_reply": "2023-12-27T06:11:38.538305Z",
     "shell.execute_reply.started": "2023-12-27T06:11:38.533831Z"
    }
   },
   "outputs": [
    {
     "data": {
      "text/plain": [
       "5"
      ]
     },
     "execution_count": 150,
     "metadata": {},
     "output_type": "execute_result"
    }
   ],
   "source": [
    "## Accessing Elements of an array\n",
    "\n",
    "my_2d_array[1, 1]"
   ]
  },
  {
   "cell_type": "code",
   "execution_count": 156,
   "metadata": {
    "execution": {
     "iopub.execute_input": "2023-12-27T06:12:29.989761Z",
     "iopub.status.busy": "2023-12-27T06:12:29.989422Z",
     "iopub.status.idle": "2023-12-27T06:12:29.995143Z",
     "shell.execute_reply": "2023-12-27T06:12:29.994247Z",
     "shell.execute_reply.started": "2023-12-27T06:12:29.989735Z"
    }
   },
   "outputs": [
    {
     "name": "stdout",
     "output_type": "stream",
     "text": [
      "2\n"
     ]
    }
   ],
   "source": [
    "## Accessing Rows and Columns of an array\n",
    "\n",
    "#print(my_2d_array[0])\n",
    "print(my_2d_array[0, 1])\n",
    "\n",
    "# FIRST NUMBER -- POSITION OF ARRAY\n",
    "# SECOND NUMBER -- POSITION OF MY ELEMENT"
   ]
  },
  {
   "cell_type": "code",
   "execution_count": 159,
   "metadata": {
    "execution": {
     "iopub.execute_input": "2023-12-27T06:13:14.879105Z",
     "iopub.status.busy": "2023-12-27T06:13:14.878798Z",
     "iopub.status.idle": "2023-12-27T06:13:14.884283Z",
     "shell.execute_reply": "2023-12-27T06:13:14.883248Z",
     "shell.execute_reply.started": "2023-12-27T06:13:14.879076Z"
    }
   },
   "outputs": [
    {
     "name": "stdout",
     "output_type": "stream",
     "text": [
      "(3,)\n",
      "(2, 3)\n"
     ]
    }
   ],
   "source": [
    "## Shape/dimensions of an array\n",
    "\n",
    "print(my_array.shape)\n",
    "print(my_2d_array.shape)"
   ]
  },
  {
   "cell_type": "markdown",
   "metadata": {},
   "source": [
    "The main types are `int32` (32-bit integers), `int64` (64-bit integers), `float32` (32-bit real values) and `float64` (64-bit real values)."
   ]
  },
  {
   "cell_type": "code",
   "execution_count": 160,
   "metadata": {
    "execution": {
     "iopub.execute_input": "2023-12-27T06:14:14.530245Z",
     "iopub.status.busy": "2023-12-27T06:14:14.529924Z",
     "iopub.status.idle": "2023-12-27T06:14:14.536208Z",
     "shell.execute_reply": "2023-12-27T06:14:14.535269Z",
     "shell.execute_reply.started": "2023-12-27T06:14:14.530219Z"
    }
   },
   "outputs": [
    {
     "data": {
      "text/plain": [
       "dtype('int32')"
      ]
     },
     "execution_count": 160,
     "metadata": {},
     "output_type": "execute_result"
    }
   ],
   "source": [
    "my_array.dtype"
   ]
  },
  {
   "cell_type": "code",
   "execution_count": 37,
   "metadata": {
    "execution": {
     "iopub.execute_input": "2023-12-27T06:14:54.361329Z",
     "iopub.status.busy": "2023-12-27T06:14:54.361017Z",
     "iopub.status.idle": "2023-12-27T06:14:54.368233Z",
     "shell.execute_reply": "2023-12-27T06:14:54.367238Z",
     "shell.execute_reply.started": "2023-12-27T06:14:54.361304Z"
    }
   },
   "outputs": [
    {
     "data": {
      "text/plain": [
       "dtype('float64')"
      ]
     },
     "execution_count": 37,
     "metadata": {},
     "output_type": "execute_result"
    }
   ],
   "source": [
    "## Specifying the data type of an array while defining\n",
    "my_array = np.array([1, 2, 3], dtype=np.float64)\n",
    "my_array.dtype"
   ]
  },
  {
   "cell_type": "code",
   "execution_count": 176,
   "metadata": {
    "execution": {
     "iopub.execute_input": "2023-12-27T06:15:16.928297Z",
     "iopub.status.busy": "2023-12-27T06:15:16.927993Z",
     "iopub.status.idle": "2023-12-27T06:15:16.933928Z",
     "shell.execute_reply": "2023-12-27T06:15:16.933178Z",
     "shell.execute_reply.started": "2023-12-27T06:15:16.928275Z"
    }
   },
   "outputs": [
    {
     "data": {
      "text/plain": [
       "array([[1., 1., 1., 1., 1., 1., 1., 1., 1., 1.],\n",
       "       [1., 1., 1., 1., 1., 1., 1., 1., 1., 1.],\n",
       "       [1., 1., 1., 1., 1., 1., 1., 1., 1., 1.],\n",
       "       [1., 1., 1., 1., 1., 1., 1., 1., 1., 1.]])"
      ]
     },
     "execution_count": 176,
     "metadata": {},
     "output_type": "execute_result"
    }
   ],
   "source": [
    "## Array of Zeros\n",
    "\n",
    "zero_array = np.ones((4, 10))\n",
    "zero_array\n",
    "\n",
    "# FIRST NUMBER -- no OF ARRAY\n",
    "# SECOND NUMBER -- no OF ELEMENT in each array"
   ]
  },
  {
   "cell_type": "code",
   "execution_count": 170,
   "metadata": {
    "execution": {
     "iopub.execute_input": "2023-12-27T06:15:47.205768Z",
     "iopub.status.busy": "2023-12-27T06:15:47.205433Z",
     "iopub.status.idle": "2023-12-27T06:15:47.210826Z",
     "shell.execute_reply": "2023-12-27T06:15:47.210139Z",
     "shell.execute_reply.started": "2023-12-27T06:15:47.205744Z"
    }
   },
   "outputs": [
    {
     "data": {
      "text/plain": [
       "array([0, 1, 2, 3, 4, 5, 6, 7, 8, 9])"
      ]
     },
     "execution_count": 170,
     "metadata": {},
     "output_type": "execute_result"
    }
   ],
   "source": [
    "## Creating a range of values\n",
    "\n",
    "np.arange(10)"
   ]
  },
  {
   "cell_type": "code",
   "execution_count": 172,
   "metadata": {
    "execution": {
     "iopub.execute_input": "2023-12-27T06:15:59.275857Z",
     "iopub.status.busy": "2023-12-27T06:15:59.275541Z",
     "iopub.status.idle": "2023-12-27T06:15:59.281170Z",
     "shell.execute_reply": "2023-12-27T06:15:59.280284Z",
     "shell.execute_reply.started": "2023-12-27T06:15:59.275834Z"
    }
   },
   "outputs": [
    {
     "data": {
      "text/plain": [
       "array([ 3,  4,  5,  6,  7,  8,  9, 10, 11, 12, 13, 14, 15, 16, 17])"
      ]
     },
     "execution_count": 172,
     "metadata": {},
     "output_type": "execute_result"
    }
   ],
   "source": [
    "np.arange(3, 18)"
   ]
  },
  {
   "cell_type": "code",
   "execution_count": 179,
   "metadata": {
    "execution": {
     "iopub.execute_input": "2023-12-27T06:16:33.445918Z",
     "iopub.status.busy": "2023-12-27T06:16:33.445580Z",
     "iopub.status.idle": "2023-12-27T06:16:33.451846Z",
     "shell.execute_reply": "2023-12-27T06:16:33.450902Z",
     "shell.execute_reply.started": "2023-12-27T06:16:33.445892Z"
    }
   },
   "outputs": [
    {
     "data": {
      "text/plain": [
       "array([  0.        ,  11.11111111,  22.22222222,  33.33333333,\n",
       "        44.44444444,  55.55555556,  66.66666667,  77.77777778,\n",
       "        88.88888889, 100.        ])"
      ]
     },
     "execution_count": 179,
     "metadata": {},
     "output_type": "execute_result"
    }
   ],
   "source": [
    "## Creating linearly spaced values in an interval\n",
    "\n",
    "np.linspace(0, 100, 10)"
   ]
  },
  {
   "cell_type": "code",
   "execution_count": 180,
   "metadata": {
    "execution": {
     "iopub.execute_input": "2023-12-27T06:17:11.242206Z",
     "iopub.status.busy": "2023-12-27T06:17:11.241895Z",
     "iopub.status.idle": "2023-12-27T06:17:11.247832Z",
     "shell.execute_reply": "2023-12-27T06:17:11.247045Z",
     "shell.execute_reply.started": "2023-12-27T06:17:11.242180Z"
    }
   },
   "outputs": [
    {
     "data": {
      "text/plain": [
       "array([[1, 2],\n",
       "       [3, 4],\n",
       "       [5, 6]])"
      ]
     },
     "execution_count": 180,
     "metadata": {},
     "output_type": "execute_result"
    }
   ],
   "source": [
    "## Reshaping a 1D array into a 2D array\n",
    "\n",
    "my_array = np.array([1, 2, 3, 4, 5, 6])\n",
    "my_array.reshape(3, 2)\n",
    "\n",
    "## first number -- rows, second number -- columns"
   ]
  },
  {
   "cell_type": "code",
   "execution_count": 182,
   "metadata": {
    "execution": {
     "iopub.execute_input": "2023-12-27T06:17:41.466259Z",
     "iopub.status.busy": "2023-12-27T06:17:41.465970Z",
     "iopub.status.idle": "2023-12-27T06:17:41.474138Z",
     "shell.execute_reply": "2023-12-27T06:17:41.473205Z",
     "shell.execute_reply.started": "2023-12-27T06:17:41.466236Z"
    }
   },
   "outputs": [
    {
     "data": {
      "text/plain": [
       "array([ 4, 10, 18])"
      ]
     },
     "execution_count": 182,
     "metadata": {},
     "output_type": "execute_result"
    }
   ],
   "source": [
    "## Basic arithematic Operations\n",
    "\n",
    "array_a = np.array([1, 2, 3])\n",
    "array_b = np.array([4, 5, 6])\n",
    "array_a * array_b"
   ]
  },
  {
   "cell_type": "code",
   "execution_count": 183,
   "metadata": {
    "execution": {
     "iopub.execute_input": "2023-12-27T06:18:16.808189Z",
     "iopub.status.busy": "2023-12-27T06:18:16.807918Z",
     "iopub.status.idle": "2023-12-27T06:18:16.815058Z",
     "shell.execute_reply": "2023-12-27T06:18:16.814185Z",
     "shell.execute_reply.started": "2023-12-27T06:18:16.808168Z"
    }
   },
   "outputs": [
    {
     "data": {
      "text/plain": [
       "array([0.84147098, 0.90929743, 0.14112001])"
      ]
     },
     "execution_count": 183,
     "metadata": {},
     "output_type": "execute_result"
    }
   ],
   "source": [
    "np.sin(array_a)"
   ]
  },
  {
   "cell_type": "code",
   "execution_count": 47,
   "metadata": {
    "execution": {
     "iopub.execute_input": "2023-12-27T06:19:05.056279Z",
     "iopub.status.busy": "2023-12-27T06:19:05.055969Z",
     "iopub.status.idle": "2023-12-27T06:19:05.065327Z",
     "shell.execute_reply": "2023-12-27T06:19:05.064508Z",
     "shell.execute_reply.started": "2023-12-27T06:19:05.056250Z"
    }
   },
   "outputs": [
    {
     "data": {
      "text/plain": [
       "array([[ 0.34400145, -0.88534093, -0.2991788 ,  1.18505856],\n",
       "       [-0.39698985, -0.78607087, -0.38914082,  0.46042571],\n",
       "       [-0.00636034, -1.08011631, -0.37978615,  1.20622859],\n",
       "       [ 0.32517857, -0.60397927, -0.03904964,  1.18080522],\n",
       "       [ 0.39761697, -0.50534188, -0.32887124,  0.4617891 ]])"
      ]
     },
     "execution_count": 47,
     "metadata": {},
     "output_type": "execute_result"
    }
   ],
   "source": [
    "array_A = np.random.rand(5, 3)\n",
    "array_B = np.random.randn(3, 4)\n",
    "np.dot(array_A, array_B)"
   ]
  },
  {
   "cell_type": "code",
   "execution_count": 48,
   "metadata": {
    "execution": {
     "iopub.execute_input": "2023-12-27T06:20:08.999464Z",
     "iopub.status.busy": "2023-12-27T06:20:08.999171Z",
     "iopub.status.idle": "2023-12-27T06:20:09.005167Z",
     "shell.execute_reply": "2023-12-27T06:20:09.004044Z",
     "shell.execute_reply.started": "2023-12-27T06:20:08.999442Z"
    }
   },
   "outputs": [
    {
     "name": "stdout",
     "output_type": "stream",
     "text": [
      "[[0.40981622 0.37919212 0.93454695]\n",
      " [0.59698866 0.48702303 0.34098576]\n",
      " [0.5602539  0.57726689 0.85224813]\n",
      " [0.04832346 0.2975079  0.72175253]\n",
      " [0.4281826  0.09785672 0.64593225]]\n",
      " \n",
      "[[0.40981622 0.59698866 0.5602539  0.04832346 0.4281826 ]\n",
      " [0.37919212 0.48702303 0.57726689 0.2975079  0.09785672]\n",
      " [0.93454695 0.34098576 0.85224813 0.72175253 0.64593225]]\n"
     ]
    }
   ],
   "source": [
    "## Matrix Transpose\n",
    "\n",
    "print(array_A)\n",
    "print(\" \")\n",
    "print(array_A.T)"
   ]
  },
  {
   "cell_type": "markdown",
   "metadata": {},
   "source": [
    "**Exercise 1.** Create two 2d arrays of shape (2, 4) and (4,2), containing 8 values each"
   ]
  },
  {
   "cell_type": "code",
   "execution_count": null,
   "metadata": {},
   "outputs": [],
   "source": []
  },
  {
   "cell_type": "markdown",
   "metadata": {},
   "source": [
    "**Exercise 2.** Rewrite the relu function (see Python section) using [np.maximum](https://numpy.org/doc/stable/reference/generated/numpy.maximum.html). Check that it works on both a single value and on an array of values."
   ]
  },
  {
   "cell_type": "code",
   "execution_count": 49,
   "metadata": {},
   "outputs": [],
   "source": [
    "def relu_numpy(x):\n",
    "  return\n",
    "\n",
    "relu_numpy(np.array([1, -3, 2.5]))"
   ]
  },
  {
   "cell_type": "markdown",
   "metadata": {},
   "source": [
    "## Matplotlib"
   ]
  },
  {
   "cell_type": "markdown",
   "metadata": {},
   "source": [
    "Matplotlib is a plotting library for Python"
   ]
  },
  {
   "cell_type": "code",
   "execution_count": 50,
   "metadata": {
    "execution": {
     "iopub.execute_input": "2023-12-27T06:47:08.901759Z",
     "iopub.status.busy": "2023-12-27T06:47:08.901411Z",
     "iopub.status.idle": "2023-12-27T06:47:08.905521Z",
     "shell.execute_reply": "2023-12-27T06:47:08.904679Z",
     "shell.execute_reply.started": "2023-12-27T06:47:08.901733Z"
    }
   },
   "outputs": [],
   "source": [
    "from matplotlib import pyplot as plt"
   ]
  },
  {
   "cell_type": "code",
   "execution_count": 51,
   "metadata": {
    "execution": {
     "iopub.execute_input": "2023-12-27T06:47:08.907138Z",
     "iopub.status.busy": "2023-12-27T06:47:08.906917Z",
     "iopub.status.idle": "2023-12-27T06:47:09.135242Z",
     "shell.execute_reply": "2023-12-27T06:47:09.134453Z",
     "shell.execute_reply.started": "2023-12-27T06:47:08.907118Z"
    }
   },
   "outputs": [
    {
     "data": {
      "image/png": "[encoded data removed]",
      "text/plain": [
       "<Figure size 640x480 with 1 Axes>"
      ]
     },
     "metadata": {},
     "output_type": "display_data"
    }
   ],
   "source": [
    "x_values = np.linspace(-3, 3, 100)\n",
    "\n",
    "plt.figure()\n",
    "plt.plot(x_values, np.sin(x_values), label=\"Sinusoid\")\n",
    "plt.xlabel(\"x\")\n",
    "plt.ylabel(\"sin(x)\")\n",
    "plt.title(\"Matplotlib example\")\n",
    "plt.legend(loc=\"upper left\")\n",
    "plt.show()"
   ]
  },
  {
   "cell_type": "markdown",
   "metadata": {},
   "source": [
    "### Importing iris dataset (in built dataset in python) and using it for scatterplot"
   ]
  },
  {
   "cell_type": "code",
   "execution_count": 52,
   "metadata": {
    "execution": {
     "iopub.execute_input": "2023-12-27T06:48:40.769590Z",
     "iopub.status.busy": "2023-12-27T06:48:40.769256Z",
     "iopub.status.idle": "2023-12-27T06:48:41.469402Z",
     "shell.execute_reply": "2023-12-27T06:48:41.468377Z",
     "shell.execute_reply.started": "2023-12-27T06:48:40.769563Z"
    }
   },
   "outputs": [
    {
     "data": {
      "image/png": "[encoded data removed]",
      "text/plain": [
       "<Figure size 640x480 with 1 Axes>"
      ]
     },
     "metadata": {},
     "output_type": "display_data"
    }
   ],
   "source": [
    "from sklearn.datasets import load_iris\n",
    "X, y = load_iris(return_X_y=True)\n",
    "\n",
    "X_class0 = X[y == 0]\n",
    "X_class1 = X[y == 1]\n",
    "X_class2 = X[y == 2]\n",
    "\n",
    "plt.figure()\n",
    "plt.scatter(X_class0[:, 0], X_class0[:, 1], label=\"Class 0\", color=\"C0\")\n",
    "plt.scatter(X_class1[:, 0], X_class1[:, 1], label=\"Class 1\", color=\"C1\")\n",
    "plt.scatter(X_class2[:, 0], X_class2[:, 1], label=\"Class 2\", color=\"C2\")\n",
    "plt.show()"
   ]
  },
  {
   "cell_type": "code",
   "execution_count": null,
   "metadata": {},
   "outputs": [],
   "source": []
  }
 ],
 "metadata": {
  "kaggle": {
   "accelerator": "none",
   "dataSources": [],
   "dockerImageVersionId": 30626,
   "isGpuEnabled": false,
   "isInternetEnabled": true,
   "language": "python",
   "sourceType": "notebook"
  },
  "kernelspec": {
   "display_name": "Python 3 (ipykernel)",
   "language": "python",
   "name": "python3"
  },
  "language_info": {
   "codemirror_mode": {
    "name": "ipython",
    "version": 3
   },
   "file_extension": ".py",
   "mimetype": "text/x-python",
   "name": "python",
   "nbconvert_exporter": "python",
   "pygments_lexer": "ipython3",
   "version": "3.11.4"
  }
 },
 "nbformat": 4,
 "nbformat_minor": 4
}
